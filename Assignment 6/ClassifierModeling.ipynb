{
 "cells": [
  {
   "cell_type": "raw",
   "id": "00042526-e8c0-46e7-9309-edf2e72562ef",
   "metadata": {},
   "source": [
    "## Illustrative Example of a Classification Model Building\n",
    "- It uses the stroke prediction dataset from Kaggle\n",
    "- The data has 5110 records with 12 attributes\n",
    "- The data is highly unbalanced with only 249 cases of stroke patients\n",
    "\n",
    "- The notebook is organized in three sections\n",
    "- The first section does basic analysis/visualization of the data\n",
    "- The second section looks for missing values and acts upon them\n",
    "- The third section builds models and checks their performance\n",
    "\n",
    "[![Open In Colab](https://colab.research.google.com/assets/colab-badge.svg)](https://github.com/iksinc/ML-Stuff/ClassifierModeling.ipynb)"
   ]
  },
  {
   "cell_type": "markdown",
   "id": "8a2772de",
   "metadata": {},
   "source": [
    "### Part 1\n",
    "-Getting data and visualization"
   ]
  },
  {
   "cell_type": "code",
   "execution_count": 1,
   "id": "ba3d1c16",
   "metadata": {},
   "outputs": [],
   "source": [
    "import numpy as np\n",
    "import pandas as pd\n",
    "import matplotlib.pyplot as plt\n",
    "pd.set_option(\"display.precision\", 3)"
   ]
  },
  {
   "cell_type": "code",
   "execution_count": 2,
   "id": "4db31846",
   "metadata": {},
   "outputs": [],
   "source": [
    "file = 'https://github.com/iksinc/Data/raw/main/healthcare-dataset-stroke-data.csv'\n",
    "df = pd.read_csv(file)"
   ]
  },
  {
   "cell_type": "code",
   "execution_count": 3,
   "id": "82cddd14",
   "metadata": {
    "scrolled": true
   },
   "outputs": [
    {
     "data": {
      "text/html": [
       "<div>\n",
       "<style scoped>\n",
       "    .dataframe tbody tr th:only-of-type {\n",
       "        vertical-align: middle;\n",
       "    }\n",
       "\n",
       "    .dataframe tbody tr th {\n",
       "        vertical-align: top;\n",
       "    }\n",
       "\n",
       "    .dataframe thead th {\n",
       "        text-align: right;\n",
       "    }\n",
       "</style>\n",
       "<table border=\"1\" class=\"dataframe\">\n",
       "  <thead>\n",
       "    <tr style=\"text-align: right;\">\n",
       "      <th></th>\n",
       "      <th>id</th>\n",
       "      <th>gender</th>\n",
       "      <th>age</th>\n",
       "      <th>hypertension</th>\n",
       "      <th>heart_disease</th>\n",
       "      <th>ever_married</th>\n",
       "      <th>work_type</th>\n",
       "      <th>Residence_type</th>\n",
       "      <th>avg_glucose_level</th>\n",
       "      <th>bmi</th>\n",
       "      <th>smoking_status</th>\n",
       "      <th>stroke</th>\n",
       "    </tr>\n",
       "  </thead>\n",
       "  <tbody>\n",
       "    <tr>\n",
       "      <th>0</th>\n",
       "      <td>9046</td>\n",
       "      <td>Male</td>\n",
       "      <td>67.0</td>\n",
       "      <td>0</td>\n",
       "      <td>1</td>\n",
       "      <td>Yes</td>\n",
       "      <td>Private</td>\n",
       "      <td>Urban</td>\n",
       "      <td>228.69</td>\n",
       "      <td>36.6</td>\n",
       "      <td>formerly smoked</td>\n",
       "      <td>1</td>\n",
       "    </tr>\n",
       "    <tr>\n",
       "      <th>1</th>\n",
       "      <td>51676</td>\n",
       "      <td>Female</td>\n",
       "      <td>61.0</td>\n",
       "      <td>0</td>\n",
       "      <td>0</td>\n",
       "      <td>Yes</td>\n",
       "      <td>Self-employed</td>\n",
       "      <td>Rural</td>\n",
       "      <td>202.21</td>\n",
       "      <td>NaN</td>\n",
       "      <td>never smoked</td>\n",
       "      <td>1</td>\n",
       "    </tr>\n",
       "    <tr>\n",
       "      <th>2</th>\n",
       "      <td>31112</td>\n",
       "      <td>Male</td>\n",
       "      <td>80.0</td>\n",
       "      <td>0</td>\n",
       "      <td>1</td>\n",
       "      <td>Yes</td>\n",
       "      <td>Private</td>\n",
       "      <td>Rural</td>\n",
       "      <td>105.92</td>\n",
       "      <td>32.5</td>\n",
       "      <td>never smoked</td>\n",
       "      <td>1</td>\n",
       "    </tr>\n",
       "    <tr>\n",
       "      <th>3</th>\n",
       "      <td>60182</td>\n",
       "      <td>Female</td>\n",
       "      <td>49.0</td>\n",
       "      <td>0</td>\n",
       "      <td>0</td>\n",
       "      <td>Yes</td>\n",
       "      <td>Private</td>\n",
       "      <td>Urban</td>\n",
       "      <td>171.23</td>\n",
       "      <td>34.4</td>\n",
       "      <td>smokes</td>\n",
       "      <td>1</td>\n",
       "    </tr>\n",
       "    <tr>\n",
       "      <th>4</th>\n",
       "      <td>1665</td>\n",
       "      <td>Female</td>\n",
       "      <td>79.0</td>\n",
       "      <td>1</td>\n",
       "      <td>0</td>\n",
       "      <td>Yes</td>\n",
       "      <td>Self-employed</td>\n",
       "      <td>Rural</td>\n",
       "      <td>174.12</td>\n",
       "      <td>24.0</td>\n",
       "      <td>never smoked</td>\n",
       "      <td>1</td>\n",
       "    </tr>\n",
       "  </tbody>\n",
       "</table>\n",
       "</div>"
      ],
      "text/plain": [
       "      id  gender   age  hypertension  heart_disease ever_married  \\\n",
       "0   9046    Male  67.0             0              1          Yes   \n",
       "1  51676  Female  61.0             0              0          Yes   \n",
       "2  31112    Male  80.0             0              1          Yes   \n",
       "3  60182  Female  49.0             0              0          Yes   \n",
       "4   1665  Female  79.0             1              0          Yes   \n",
       "\n",
       "       work_type Residence_type  avg_glucose_level   bmi   smoking_status  \\\n",
       "0        Private          Urban             228.69  36.6  formerly smoked   \n",
       "1  Self-employed          Rural             202.21   NaN     never smoked   \n",
       "2        Private          Rural             105.92  32.5     never smoked   \n",
       "3        Private          Urban             171.23  34.4           smokes   \n",
       "4  Self-employed          Rural             174.12  24.0     never smoked   \n",
       "\n",
       "   stroke  \n",
       "0       1  \n",
       "1       1  \n",
       "2       1  \n",
       "3       1  \n",
       "4       1  "
      ]
     },
     "execution_count": 3,
     "metadata": {},
     "output_type": "execute_result"
    }
   ],
   "source": [
    "df.head(5)"
   ]
  },
  {
   "cell_type": "code",
   "execution_count": 12,
   "id": "9fc411c4",
   "metadata": {},
   "outputs": [
    {
     "data": {
      "text/plain": [
       "0    4861\n",
       "1     249\n",
       "Name: stroke, dtype: int64"
      ]
     },
     "execution_count": 12,
     "metadata": {},
     "output_type": "execute_result"
    }
   ],
   "source": [
    "# Count the stroke/no-stroke cases\n",
    "df['stroke'].value_counts()"
   ]
  },
  {
   "cell_type": "code",
   "execution_count": 4,
   "id": "d378b179",
   "metadata": {
    "scrolled": true
   },
   "outputs": [
    {
     "data": {
      "text/plain": [
       "id                     0\n",
       "gender                 0\n",
       "age                    0\n",
       "hypertension           0\n",
       "heart_disease          0\n",
       "ever_married           0\n",
       "work_type              0\n",
       "Residence_type         0\n",
       "avg_glucose_level      0\n",
       "bmi                  201\n",
       "smoking_status         0\n",
       "stroke                 0\n",
       "dtype: int64"
      ]
     },
     "execution_count": 4,
     "metadata": {},
     "output_type": "execute_result"
    }
   ],
   "source": [
    "# Check for missing data\n",
    "df.isnull().sum()"
   ]
  },
  {
   "cell_type": "code",
   "execution_count": 5,
   "id": "92f48dc8",
   "metadata": {},
   "outputs": [
    {
     "data": {
      "text/html": [
       "<div>\n",
       "<style scoped>\n",
       "    .dataframe tbody tr th:only-of-type {\n",
       "        vertical-align: middle;\n",
       "    }\n",
       "\n",
       "    .dataframe tbody tr th {\n",
       "        vertical-align: top;\n",
       "    }\n",
       "\n",
       "    .dataframe thead th {\n",
       "        text-align: right;\n",
       "    }\n",
       "</style>\n",
       "<table border=\"1\" class=\"dataframe\">\n",
       "  <thead>\n",
       "    <tr style=\"text-align: right;\">\n",
       "      <th></th>\n",
       "      <th>id</th>\n",
       "      <th>gender</th>\n",
       "      <th>age</th>\n",
       "      <th>hypertension</th>\n",
       "      <th>heart_disease</th>\n",
       "      <th>ever_married</th>\n",
       "      <th>work_type</th>\n",
       "      <th>Residence_type</th>\n",
       "      <th>avg_glucose_level</th>\n",
       "      <th>bmi</th>\n",
       "      <th>smoking_status</th>\n",
       "      <th>stroke</th>\n",
       "    </tr>\n",
       "  </thead>\n",
       "  <tbody>\n",
       "    <tr>\n",
       "      <th>0</th>\n",
       "      <td>9046</td>\n",
       "      <td>0</td>\n",
       "      <td>67.0</td>\n",
       "      <td>0</td>\n",
       "      <td>1</td>\n",
       "      <td>0</td>\n",
       "      <td>0</td>\n",
       "      <td>0</td>\n",
       "      <td>228.69</td>\n",
       "      <td>36.6</td>\n",
       "      <td>0</td>\n",
       "      <td>1</td>\n",
       "    </tr>\n",
       "    <tr>\n",
       "      <th>1</th>\n",
       "      <td>51676</td>\n",
       "      <td>1</td>\n",
       "      <td>61.0</td>\n",
       "      <td>0</td>\n",
       "      <td>0</td>\n",
       "      <td>0</td>\n",
       "      <td>1</td>\n",
       "      <td>1</td>\n",
       "      <td>202.21</td>\n",
       "      <td>NaN</td>\n",
       "      <td>1</td>\n",
       "      <td>1</td>\n",
       "    </tr>\n",
       "  </tbody>\n",
       "</table>\n",
       "</div>"
      ],
      "text/plain": [
       "      id  gender   age  hypertension  heart_disease  ever_married  work_type  \\\n",
       "0   9046       0  67.0             0              1             0          0   \n",
       "1  51676       1  61.0             0              0             0          1   \n",
       "\n",
       "   Residence_type  avg_glucose_level   bmi  smoking_status  stroke  \n",
       "0               0             228.69  36.6               0       1  \n",
       "1               1             202.21   NaN               1       1  "
      ]
     },
     "execution_count": 5,
     "metadata": {},
     "output_type": "execute_result"
    }
   ],
   "source": [
    "# Before we look for filling in of missing values, we are going to understand/visualize the data\n",
    "# But first, let's encode the categorical features\n",
    "## First convert categorical variables\n",
    "cat_columns = df.select_dtypes(['object']).columns\n",
    "df[cat_columns] = df[cat_columns].apply(lambda x: pd.factorize(x)[0])\n",
    "df[0:2]"
   ]
  },
  {
   "cell_type": "code",
   "execution_count": 6,
   "id": "7b8cdf03",
   "metadata": {
    "scrolled": true
   },
   "outputs": [
    {
     "data": {
      "image/png": "[encoded data removed]",
      "text/plain": [
       "<Figure size 432x288 with 2 Axes>"
      ]
     },
     "metadata": {
      "needs_background": "light"
     },
     "output_type": "display_data"
    }
   ],
   "source": [
    "import seaborn as sns\n",
    "corr = df.loc[:, df.columns != 'id'].corr() # Exclude id column in correlation computation\n",
    "sns.heatmap(corr.round(2),annot=True)\n",
    "sns.set(rc={\"figure.figsize\":(8, 8)})\n",
    "plt.show()"
   ]
  },
  {
   "cell_type": "code",
   "execution_count": 32,
   "id": "3b95a445",
   "metadata": {},
   "outputs": [
    {
     "data": {
      "image/png": "[encoded data removed]",
      "text/plain": [
       "<Figure size 360x216 with 1 Axes>"
      ]
     },
     "metadata": {},
     "output_type": "display_data"
    }
   ],
   "source": [
    "# Let's look at the plots of 'age','avg_glucose_level','bmi' for the two target values\n",
    "plt.rc('figure', figsize=(5, 3))\n",
    "plt.hist([df[df['stroke'] == 1]['age'],df[df['stroke'] == 0]['age']],color=['green', 'red'], bins=20);"
   ]
  },
  {
   "cell_type": "code",
   "execution_count": 33,
   "id": "313893eb",
   "metadata": {},
   "outputs": [
    {
     "data": {
      "image/png": "[encoded data removed]",
      "text/plain": [
       "<Figure size 360x216 with 1 Axes>"
      ]
     },
     "metadata": {},
     "output_type": "display_data"
    }
   ],
   "source": [
    "plt.hist([df[df['stroke'] == 1]['avg_glucose_level'],df[df['stroke'] == 0]['avg_glucose_level']],color=['red', 'lime'], bins=20);"
   ]
  },
  {
   "cell_type": "code",
   "execution_count": 34,
   "id": "992c81e6",
   "metadata": {},
   "outputs": [
    {
     "data": {
      "image/png": "[encoded data removed]",
      "text/plain": [
       "<Figure size 360x216 with 1 Axes>"
      ]
     },
     "metadata": {},
     "output_type": "display_data"
    }
   ],
   "source": [
    "plt.hist([df[df['stroke'] == 1]['bmi'],df[df['stroke'] == 0]['bmi']],color=['blue', 'lime'], bins=10);"
   ]
  },
  {
   "cell_type": "code",
   "execution_count": 37,
   "id": "072eed65",
   "metadata": {},
   "outputs": [
    {
     "data": {
      "image/png": "[encoded data removed]",
      "text/plain": [
       "<Figure size 576x288 with 4 Axes>"
      ]
     },
     "metadata": {},
     "output_type": "display_data"
    }
   ],
   "source": [
    "fig, ((ax0, ax1), (ax2, ax3)) = plt.subplots(nrows=2, ncols=2,figsize=(8, 4))\n",
    "ax0 = df.groupby(['hypertension'])['stroke'].value_counts().unstack().plot(kind='bar',ax=ax0,stacked = False)\n",
    "ax1 = df.groupby(['heart_disease'])['stroke'].value_counts().unstack().plot(kind='bar',ax=ax1,stacked = False)\n",
    "ax2 = df.groupby(['smoking_status'])['stroke'].value_counts().unstack().plot(kind='bar',ax=ax2,stacked = False)\n",
    "ax3 = df.groupby(['work_type'])['stroke'].value_counts().unstack().plot(kind='bar',ax=ax3,stacked = False)"
   ]
  },
  {
   "cell_type": "markdown",
   "id": "25df9575",
   "metadata": {},
   "source": [
    "### From above, we derive the following insight into the data\n",
    "- Age has the highest correlation (0.25) with stroke\n",
    "- BMI has similar level of correlation with age (+ corr), ever_married (- corr), and work_type(- corr)"
   ]
  },
  {
   "cell_type": "markdown",
   "id": "70965396",
   "metadata": {},
   "source": [
    "### Part 2\n",
    "- We will now fill-in the missing BMI values. \n",
    "- We will calculate the missing values by doing KNN regression on BMI with k=3.\n",
    "- We will use KNN imputer for this purpose"
   ]
  },
  {
   "cell_type": "code",
   "execution_count": 38,
   "id": "c6def9cb",
   "metadata": {},
   "outputs": [],
   "source": [
    "from sklearn.impute import KNNImputer\n",
    "X = df[['age','bmi']].copy()\n",
    "imputer = KNNImputer(n_neighbors=3)\n",
    "X =imputer.fit_transform(X)"
   ]
  },
  {
   "cell_type": "code",
   "execution_count": 39,
   "id": "06cb0f15",
   "metadata": {},
   "outputs": [
    {
     "name": "stdout",
     "output_type": "stream",
     "text": [
      "0\n"
     ]
    }
   ],
   "source": [
    "print(np.isnan(X).sum())# Check if all missing values have been filled."
   ]
  },
  {
   "cell_type": "code",
   "execution_count": 40,
   "id": "620253d3",
   "metadata": {},
   "outputs": [],
   "source": [
    "#Replace missing values in the dataframe\n",
    "df['bmi']=X[:,1]"
   ]
  },
  {
   "cell_type": "markdown",
   "id": "90d28fe3",
   "metadata": {},
   "source": [
    "### Part 3\n",
    "- We will use the logistic regression for our model\n",
    "- We will first build the model without normalization/scaling\n",
    "- Next, we will do the same with scaling and compare the two models"
   ]
  },
  {
   "cell_type": "code",
   "execution_count": 41,
   "id": "b1b4a5cd",
   "metadata": {},
   "outputs": [],
   "source": [
    "#Now we can start building our model\n",
    "random_state=42\n",
    "from sklearn.preprocessing import StandardScaler\n",
    "from sklearn.linear_model import LogisticRegression\n",
    "from sklearn.model_selection import train_test_split,cross_val_score\n",
    "from sklearn.metrics import classification_report, confusion_matrix\n",
    "from sklearn.metrics import accuracy_score, recall_score, roc_auc_score, precision_score, f1_score\n",
    "X  = df[['gender','age','hypertension','heart_disease','work_type','avg_glucose_level','bmi']]\n",
    "y = df['stroke']\n",
    "X_train, X_test, y_train, y_test = train_test_split(X, y, train_size=0.7)"
   ]
  },
  {
   "cell_type": "code",
   "execution_count": 47,
   "id": "67cbf238",
   "metadata": {},
   "outputs": [
    {
     "name": "stdout",
     "output_type": "stream",
     "text": [
      "0.9549910873440286\n"
     ]
    }
   ],
   "source": [
    "lrm = LogisticRegression(max_iter=200)\n",
    "lrm.fit(X_train,y_train)\n",
    "print(cross_val_score(lrm,X_test,y_test, cv=10).mean())"
   ]
  },
  {
   "cell_type": "code",
   "execution_count": 48,
   "id": "44e76f07",
   "metadata": {},
   "outputs": [
    {
     "name": "stdout",
     "output_type": "stream",
     "text": [
      "[[1464   69]\n",
      " [   0    0]]\n"
     ]
    }
   ],
   "source": [
    "# This looks too good considering we have a highly unbalanced dataset\n",
    "# Let's look at the confusion matrix\n",
    "from sklearn import metrics\n",
    "print(metrics.confusion_matrix(lrm.predict(X_test), y_test))"
   ]
  },
  {
   "cell_type": "code",
   "execution_count": null,
   "id": "2ed3ae7e",
   "metadata": {},
   "outputs": [],
   "source": [
    "# Obvisouly, the model hasn't learned to differentiate between stroke/no-stroke\n",
    "# This is because of the class imbalance in the data\n",
    "# We can use the class weighting scheme to tell the model to give importance to y_train=1 examples\n",
    "# We do this by balancing the class weights parameter"
   ]
  },
  {
   "cell_type": "code",
   "execution_count": 49,
   "id": "61cc501e",
   "metadata": {},
   "outputs": [
    {
     "name": "stdout",
     "output_type": "stream",
     "text": [
      "0.763857057974705\n"
     ]
    }
   ],
   "source": [
    "lrm = LogisticRegression(max_iter=200,class_weight='balanced')\n",
    "lrm.fit(X_train,y_train)\n",
    "print(cross_val_score(lrm,X_test,y_test, cv=10).mean())"
   ]
  },
  {
   "cell_type": "code",
   "execution_count": 50,
   "id": "611750ab",
   "metadata": {},
   "outputs": [
    {
     "name": "stdout",
     "output_type": "stream",
     "text": [
      "[[1076   12]\n",
      " [ 388   57]]\n"
     ]
    }
   ],
   "source": [
    "print(metrics.confusion_matrix(lrm.predict(X_test), y_test))"
   ]
  },
  {
   "cell_type": "code",
   "execution_count": null,
   "id": "bdb82951",
   "metadata": {},
   "outputs": [],
   "source": [
    "# Now we see that 82.6% of the stroke examples are being correctly classified.\n",
    "# Changing the class_weight setting has been good.\n",
    "# Next, let's see if the normalization will help."
   ]
  },
  {
   "cell_type": "code",
   "execution_count": 54,
   "id": "c0d62654",
   "metadata": {},
   "outputs": [],
   "source": [
    "scaler = StandardScaler().fit(X_train)\n",
    "X_scaled = scaler.transform(X_train)"
   ]
  },
  {
   "cell_type": "code",
   "execution_count": 57,
   "id": "9328eb6b",
   "metadata": {},
   "outputs": [
    {
     "name": "stdout",
     "output_type": "stream",
     "text": [
      "0.7274290721875343\n",
      "0.7645106527459469\n"
     ]
    }
   ],
   "source": [
    "lrm.fit(X_scaled,y_train)\n",
    "print(cross_val_score(lrm,X_scaled,y_train, cv=10).mean())\n",
    "X_test_scaled = scaler.transform(X_test)\n",
    "print(cross_val_score(lrm,X_test_scaled,y_test, cv=10).mean())"
   ]
  },
  {
   "cell_type": "code",
   "execution_count": 58,
   "id": "95f5e257",
   "metadata": {},
   "outputs": [
    {
     "name": "stdout",
     "output_type": "stream",
     "text": [
      "              precision    recall  f1-score   support\n",
      "\n",
      "           0       0.99      0.73      0.84      1464\n",
      "           1       0.13      0.83      0.22        69\n",
      "\n",
      "    accuracy                           0.74      1533\n",
      "   macro avg       0.56      0.78      0.53      1533\n",
      "weighted avg       0.95      0.74      0.82      1533\n",
      "\n"
     ]
    }
   ],
   "source": [
    "# The results indicate that scaling doesn't change the results and thus can be omitted, if desired\n",
    "# We will now generate the classification report.\n",
    "y_pred = lrm.predict(X_test_scaled)\n",
    "print(classification_report(y_test,y_pred))"
   ]
  },
  {
   "cell_type": "raw",
   "id": "00e47e82",
   "metadata": {},
   "source": [
    "The precision is the ratio tp / (tp + fp) where tp is the number of true positives and\n",
    "fp the number of false positives. The precision is intuitively the ability of the classifier\n",
    "not to label a negative sample as positive.\n",
    "The recall is the ratio tp / (tp + fn) where tp is the number of true positives and \n",
    "fn the number of false negatives. The recall is intuitively the ability of the classifier\n",
    "to find all the positive samples. f1 is the harmonic mean of precision and recall. Weighted average\n",
    "takes into consideration class_weight.\n",
    "The above results are good but one can try to improve them by grid search "
   ]
  },
  {
   "cell_type": "code",
   "execution_count": 65,
   "id": "7b746dae",
   "metadata": {},
   "outputs": [
    {
     "data": {
      "image/png": "[encoded data removed]",
      "text/plain": [
       "<Figure size 360x216 with 1 Axes>"
      ]
     },
     "metadata": {},
     "output_type": "display_data"
    }
   ],
   "source": [
    "## y_pred_proba = lrm.predict_proba(X_test_scaled)[::,1]\n",
    "fpr, tpr, _ = metrics.roc_curve(y_test,  y_pred_proba)\n",
    "auc = metrics.roc_auc_score(y_test, y_pred_proba)\n",
    "\n",
    "#create ROC curve\n",
    "plt.plot(fpr,tpr,label=\"AUC=\"+str(auc))\n",
    "plt.plot([0, 1], [0, 1], color=\"navy\", lw=2, linestyle=\"--\")\n",
    "plt.ylabel('True Positive Rate')\n",
    "plt.xlabel('False Positive Rate')\n",
    "plt.legend(loc=4)\n",
    "plt.show()"
   ]
  },
  {
   "cell_type": "code",
   "execution_count": 66,
   "id": "328f6eb4",
   "metadata": {},
   "outputs": [
    {
     "name": "stdout",
     "output_type": "stream",
     "text": [
      "Coefficients:  [[ 0.03622146  1.51080757  0.19242047  0.09216236 -0.11286936  0.10777719\n",
      "   0.00454349]]\n",
      "intercept:  [-1.02476112]\n"
     ]
    }
   ],
   "source": [
    "# A look at model coefficients\n",
    "print(\"Coefficients: \",lrm.coef_)\n",
    "print(\"intercept: \",lrm.intercept_)"
   ]
  },
  {
   "cell_type": "code",
   "execution_count": null,
   "id": "ce1eb1b6",
   "metadata": {},
   "outputs": [],
   "source": [
    "# Looking at the coefficients, age, hypertension,average glucose level, and bmi appear important features\n",
    "# Before concluding, let's build the model using SVM"
   ]
  },
  {
   "cell_type": "code",
   "execution_count": 83,
   "id": "421b3833",
   "metadata": {},
   "outputs": [
    {
     "name": "stdout",
     "output_type": "stream",
     "text": [
      "svm mean : 0.7408501948265339\n"
     ]
    }
   ],
   "source": [
    "from sklearn.svm import SVC\n",
    "svm = SVC(class_weight='balanced')\n",
    "svm.fit(X_scaled, y_train)\n",
    "cv = cross_val_score(svm,X_scaled,y_train,cv=10)\n",
    "print('svm mean :',cv.mean())"
   ]
  },
  {
   "cell_type": "code",
   "execution_count": 84,
   "id": "fd752d35",
   "metadata": {},
   "outputs": [
    {
     "name": "stdout",
     "output_type": "stream",
     "text": [
      "[[1093   16]\n",
      " [ 371   53]]\n"
     ]
    }
   ],
   "source": [
    "print(metrics.confusion_matrix(svm.predict(X_test_scaled), y_test))"
   ]
  },
  {
   "cell_type": "code",
   "execution_count": 85,
   "id": "1429e99b",
   "metadata": {},
   "outputs": [
    {
     "name": "stdout",
     "output_type": "stream",
     "text": [
      "              precision    recall  f1-score   support\n",
      "\n",
      "           0       0.99      0.75      0.85      1464\n",
      "           1       0.12      0.77      0.22        69\n",
      "\n",
      "    accuracy                           0.75      1533\n",
      "   macro avg       0.56      0.76      0.53      1533\n",
      "weighted avg       0.95      0.75      0.82      1533\n",
      "\n"
     ]
    }
   ],
   "source": [
    "y_pred = svm.predict(X_test_scaled)\n",
    "print(classification_report(y_test,y_pred))"
   ]
  },
  {
   "cell_type": "code",
   "execution_count": null,
   "id": "78622aef",
   "metadata": {},
   "outputs": [],
   "source": [
    "#The SVM performance is similar to the logistic regression performance"
   ]
  }
 ],
 "metadata": {
  "kernelspec": {
   "display_name": "Python 3 (ipykernel)",
   "language": "python",
   "name": "python3"
  },
  "language_info": {
   "codemirror_mode": {
    "name": "ipython",
    "version": 3
   },
   "file_extension": ".py",
   "mimetype": "text/x-python",
   "name": "python",
   "nbconvert_exporter": "python",
   "pygments_lexer": "ipython3",
   "version": "3.9.13"
  }
 },
 "nbformat": 4,
 "nbformat_minor": 5
}
