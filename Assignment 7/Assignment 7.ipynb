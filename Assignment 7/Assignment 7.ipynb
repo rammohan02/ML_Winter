{
 "cells": [
  {
   "cell_type": "code",
   "execution_count": 1,
   "id": "f9a8cfb2",
   "metadata": {},
   "outputs": [],
   "source": [
    "import pandas as pd\n",
    "import numpy as np\n",
    "from matplotlib import pyplot as plt\n",
    "\n",
    "from sklearn.cluster import KMeans\n",
    "from sklearn.model_selection import train_test_split\n",
    "from sklearn.metrics.cluster import rand_score\n",
    "from sklearn.metrics.cluster import adjusted_rand_score"
   ]
  },
  {
   "cell_type": "code",
   "execution_count": 2,
   "id": "fb6e440e",
   "metadata": {},
   "outputs": [
    {
     "data": {
      "text/html": [
       "<div>\n",
       "<style scoped>\n",
       "    .dataframe tbody tr th:only-of-type {\n",
       "        vertical-align: middle;\n",
       "    }\n",
       "\n",
       "    .dataframe tbody tr th {\n",
       "        vertical-align: top;\n",
       "    }\n",
       "\n",
       "    .dataframe thead tr th {\n",
       "        text-align: left;\n",
       "    }\n",
       "</style>\n",
       "<table border=\"1\" class=\"dataframe\">\n",
       "  <thead>\n",
       "    <tr>\n",
       "      <th></th>\n",
       "      <th>param1</th>\n",
       "      <th>param2</th>\n",
       "      <th>param3</th>\n",
       "      <th>param4</th>\n",
       "      <th>label</th>\n",
       "    </tr>\n",
       "  </thead>\n",
       "  <tbody>\n",
       "    <tr>\n",
       "      <th>0</th>\n",
       "      <td>0.0</td>\n",
       "      <td>1502</td>\n",
       "      <td>2215</td>\n",
       "      <td>2153</td>\n",
       "      <td>1</td>\n",
       "    </tr>\n",
       "    <tr>\n",
       "      <th>1</th>\n",
       "      <td>1.0</td>\n",
       "      <td>1667</td>\n",
       "      <td>2072</td>\n",
       "      <td>2047</td>\n",
       "      <td>1</td>\n",
       "    </tr>\n",
       "    <tr>\n",
       "      <th>2</th>\n",
       "      <td>2.0</td>\n",
       "      <td>1611</td>\n",
       "      <td>1957</td>\n",
       "      <td>1906</td>\n",
       "      <td>1</td>\n",
       "    </tr>\n",
       "    <tr>\n",
       "      <th>3</th>\n",
       "      <td>3.0</td>\n",
       "      <td>1601</td>\n",
       "      <td>1939</td>\n",
       "      <td>1831</td>\n",
       "      <td>1</td>\n",
       "    </tr>\n",
       "    <tr>\n",
       "      <th>4</th>\n",
       "      <td>4.0</td>\n",
       "      <td>1643</td>\n",
       "      <td>1965</td>\n",
       "      <td>1879</td>\n",
       "      <td>1</td>\n",
       "    </tr>\n",
       "    <tr>\n",
       "      <th>...</th>\n",
       "      <td>...</td>\n",
       "      <td>...</td>\n",
       "      <td>...</td>\n",
       "      <td>...</td>\n",
       "      <td>...</td>\n",
       "    </tr>\n",
       "    <tr>\n",
       "      <th>162495</th>\n",
       "      <td>162500.0</td>\n",
       "      <td>1926</td>\n",
       "      <td>2382</td>\n",
       "      <td>2072</td>\n",
       "      <td>7</td>\n",
       "    </tr>\n",
       "    <tr>\n",
       "      <th>162496</th>\n",
       "      <td>162500.0</td>\n",
       "      <td>1927</td>\n",
       "      <td>2388</td>\n",
       "      <td>2074</td>\n",
       "      <td>7</td>\n",
       "    </tr>\n",
       "    <tr>\n",
       "      <th>162497</th>\n",
       "      <td>162500.0</td>\n",
       "      <td>1930</td>\n",
       "      <td>2383</td>\n",
       "      <td>2074</td>\n",
       "      <td>7</td>\n",
       "    </tr>\n",
       "    <tr>\n",
       "      <th>162498</th>\n",
       "      <td>162500.0</td>\n",
       "      <td>1929</td>\n",
       "      <td>2385</td>\n",
       "      <td>2076</td>\n",
       "      <td>7</td>\n",
       "    </tr>\n",
       "    <tr>\n",
       "      <th>162499</th>\n",
       "      <td>162500.0</td>\n",
       "      <td>1926</td>\n",
       "      <td>2385</td>\n",
       "      <td>2078</td>\n",
       "      <td>7</td>\n",
       "    </tr>\n",
       "  </tbody>\n",
       "</table>\n",
       "<p>162500 rows × 5 columns</p>\n",
       "</div>"
      ],
      "text/plain": [
       "          param1 param2 param3 param4 label\n",
       "0            0.0   1502   2215   2153     1\n",
       "1            1.0   1667   2072   2047     1\n",
       "2            2.0   1611   1957   1906     1\n",
       "3            3.0   1601   1939   1831     1\n",
       "4            4.0   1643   1965   1879     1\n",
       "...          ...    ...    ...    ...   ...\n",
       "162495  162500.0   1926   2382   2072     7\n",
       "162496  162500.0   1927   2388   2074     7\n",
       "162497  162500.0   1930   2383   2074     7\n",
       "162498  162500.0   1929   2385   2076     7\n",
       "162499  162500.0   1926   2385   2078     7\n",
       "\n",
       "[162500 rows x 5 columns]"
      ]
     },
     "execution_count": 2,
     "metadata": {},
     "output_type": "execute_result"
    }
   ],
   "source": [
    "data = pd.read_csv(\"1.csv\", header=None)\n",
    "columns=['param1', 'param2', 'param3', 'param4', 'label']\n",
    "data.columns=[columns]\n",
    "data = data[:-1]\n",
    "data"
   ]
  },
  {
   "cell_type": "code",
   "execution_count": 3,
   "id": "de384205",
   "metadata": {},
   "outputs": [],
   "source": [
    "# Class labels\n",
    "# 1: Working at Computer\n",
    "# 2: Standing Up, Walking and Going up\\down stairs\n",
    "# 3: Standing\n",
    "# 4: Walking\n",
    "# 5: Going Up\\Down Stairs\n",
    "# 6: Walking and Talking with Someone\n",
    "# 7: Talking while Standing"
   ]
  },
  {
   "cell_type": "code",
   "execution_count": 4,
   "id": "6c52ebe9",
   "metadata": {},
   "outputs": [
    {
     "data": {
      "text/plain": [
       "(label,)\n",
       "7           83748\n",
       "1           33677\n",
       "4           26860\n",
       "3           11179\n",
       "5            3191\n",
       "6            2917\n",
       "2             928\n",
       "dtype: int64"
      ]
     },
     "execution_count": 4,
     "metadata": {},
     "output_type": "execute_result"
    }
   ],
   "source": [
    "data['label'].value_counts()"
   ]
  },
  {
   "cell_type": "code",
   "execution_count": 5,
   "id": "8ffcb61e",
   "metadata": {},
   "outputs": [],
   "source": [
    "data_X = data[['param1', 'param2', 'param3', 'param4']]\n",
    "data_Y = data.label"
   ]
  },
  {
   "cell_type": "code",
   "execution_count": null,
   "id": "f47d0dc9",
   "metadata": {},
   "outputs": [],
   "source": []
  },
  {
   "cell_type": "code",
   "execution_count": 6,
   "id": "36f92530",
   "metadata": {},
   "outputs": [
    {
     "name": "stdout",
     "output_type": "stream",
     "text": [
      "(113750, 4) (113750, 1) (48750, 4) (48750, 1)\n"
     ]
    }
   ],
   "source": [
    "X_train, X_test, y_train, y_test = train_test_split(data_X, data_Y, test_size=0.3, random_state=0)\n",
    "print(X_train.shape, y_train.shape, X_test.shape, y_test.shape)"
   ]
  },
  {
   "cell_type": "code",
   "execution_count": 7,
   "id": "02503cbb",
   "metadata": {},
   "outputs": [],
   "source": [
    "y_train = np.array(y_train)\n",
    "y_train = y_train.squeeze()\n",
    "\n",
    "y_test = np.array(y_test)\n",
    "y_test = y_test.squeeze()"
   ]
  },
  {
   "cell_type": "markdown",
   "id": "22b38725",
   "metadata": {},
   "source": [
    "# KMeans Clustering"
   ]
  },
  {
   "cell_type": "code",
   "execution_count": 8,
   "id": "2e7cd4b5",
   "metadata": {},
   "outputs": [
    {
     "data": {
      "image/png": "[encoded data removed]",
      "text/plain": [
       "<Figure size 640x480 with 1 Axes>"
      ]
     },
     "metadata": {},
     "output_type": "display_data"
    }
   ],
   "source": [
    "SSEU = []\n",
    "for i in range(7):\n",
    "    kmeans = KMeans(n_clusters=i+2)\n",
    "    kmeans.fit(X_train)\n",
    "    SSEU.append(kmeans.inertia_)\n",
    "\n",
    "plt.plot(range(2, 9), SSEU)\n",
    "plt.title('The Elbow Method')\n",
    "plt.xlabel('Number of clusters')\n",
    "plt.ylabel('SSEU')\n",
    "plt.show()"
   ]
  },
  {
   "cell_type": "code",
   "execution_count": 9,
   "id": "3ff5a79e",
   "metadata": {},
   "outputs": [
    {
     "name": "stdout",
     "output_type": "stream",
     "text": [
      "Result: 634 out of 113750 samples were correctly labeled.\n",
      "Rand Score:  0.7359165998706039\n",
      "Adjusted Rand Score:  0.4087489117509555\n",
      "Accuracy score of 3NN: 0.005573626373626374\n",
      "-----------------------------------------------\n",
      "Result: 2757 out of 113750 samples were correctly labeled.\n",
      "Rand Score:  0.8027426891230248\n",
      "Adjusted Rand Score:  0.5303152369592604\n",
      "Accuracy score of 4NN: 0.024237362637362637\n",
      "-----------------------------------------------\n",
      "Result: 5768 out of 113750 samples were correctly labeled.\n",
      "Rand Score:  0.7884062541015938\n",
      "Adjusted Rand Score:  0.4762213648145746\n",
      "Accuracy score of 5NN: 0.05070769230769231\n",
      "-----------------------------------------------\n",
      "Result: 10754 out of 113750 samples were correctly labeled.\n",
      "Rand Score:  0.7524277825120839\n",
      "Adjusted Rand Score:  0.37058773317581095\n",
      "Accuracy score of 6NN: 0.09454065934065935\n",
      "-----------------------------------------------\n",
      "Result: 0 out of 113750 samples were correctly labeled.\n",
      "Rand Score:  0.740997472456949\n",
      "Adjusted Rand Score:  0.3284684484668964\n",
      "Accuracy score of 7NN: 0.0\n",
      "-----------------------------------------------\n",
      "Result: 23472 out of 113750 samples were correctly labeled.\n",
      "Rand Score:  0.7464540839146612\n",
      "Adjusted Rand Score:  0.33273238150275974\n",
      "Accuracy score of 8NN: 0.20634725274725274\n",
      "-----------------------------------------------\n",
      "Result: 20833 out of 113750 samples were correctly labeled.\n",
      "Rand Score:  0.7330185293453613\n",
      "Adjusted Rand Score:  0.2890502961962369\n",
      "Accuracy score of 9NN: 0.18314725274725274\n",
      "-----------------------------------------------\n",
      "Result: 26665 out of 113750 samples were correctly labeled.\n",
      "Rand Score:  0.7329120061627882\n",
      "Adjusted Rand Score:  0.2819877549452209\n",
      "Accuracy score of 10NN: 0.23441758241758243\n",
      "-----------------------------------------------\n"
     ]
    }
   ],
   "source": [
    "k = [3, 4, 5, 6, 7, 8, 9, 10]\n",
    "\n",
    "for i in k:\n",
    "    kmeans = KMeans(n_clusters=i, random_state=0)\n",
    "    kmeans.fit(X_train)\n",
    "\n",
    "    labels = kmeans.labels_\n",
    "\n",
    "    correct_labels = sum(y_train == labels)\n",
    "\n",
    "    print(\"Result: %d out of %d samples were correctly labeled.\" % (correct_labels, y_train.size))\n",
    "    \n",
    "    print(\"Rand Score: \", rand_score(y_train, labels))\n",
    "    print(\"Adjusted Rand Score: \", adjusted_rand_score(y_train, labels))\n",
    "\n",
    "    print('Accuracy score of {}NN: {}'. format(i , correct_labels/float(y_train.size)))\n",
    "    print('-----------------------------------------------')"
   ]
  },
  {
   "cell_type": "markdown",
   "id": "ff1eb5a7",
   "metadata": {},
   "source": [
    "# Agglomerative Clustering"
   ]
  },
  {
   "cell_type": "code",
   "execution_count": 10,
   "id": "e811307d",
   "metadata": {},
   "outputs": [],
   "source": [
    "from sklearn.cluster import AgglomerativeClustering"
   ]
  },
  {
   "cell_type": "code",
   "execution_count": 11,
   "id": "842b4f19",
   "metadata": {},
   "outputs": [
    {
     "data": {
      "text/plain": [
       "500"
      ]
     },
     "execution_count": 11,
     "metadata": {},
     "output_type": "execute_result"
    }
   ],
   "source": [
    "clustering = AgglomerativeClustering(n_clusters=3, affinity='euclidean', linkage='ward')\n",
    "clustering.fit_predict(X_train[0:500])\n",
    "a = clustering.labels_\n",
    "a.size"
   ]
  },
  {
   "cell_type": "code",
   "execution_count": 13,
   "id": "4db00be3",
   "metadata": {},
   "outputs": [
    {
     "name": "stdout",
     "output_type": "stream",
     "text": [
      "Result: 0 out of 113750 samples were correctly labeled.\n",
      "Rand Score:  0.8766172344689379\n",
      "Adjusted Rand Score:  0.7265815673234776\n",
      "Accuracy score of 3NN: 0.0\n",
      "-----------------------------------------------\n",
      "Result: 0 out of 113750 samples were correctly labeled.\n",
      "Rand Score:  0.7894188376753507\n",
      "Adjusted Rand Score:  0.5000123769414492\n",
      "Accuracy score of 4NN: 0.0\n",
      "-----------------------------------------------\n",
      "Result: 3 out of 113750 samples were correctly labeled.\n",
      "Rand Score:  0.840064128256513\n",
      "Adjusted Rand Score:  0.6012989423688332\n",
      "Accuracy score of 5NN: 2.6373626373626374e-05\n",
      "-----------------------------------------------\n",
      "Result: 3 out of 113750 samples were correctly labeled.\n",
      "Rand Score:  0.7968577154308617\n",
      "Adjusted Rand Score:  0.4740439047534634\n",
      "Accuracy score of 6NN: 2.6373626373626374e-05\n",
      "-----------------------------------------------\n",
      "Result: 3 out of 113750 samples were correctly labeled.\n",
      "Rand Score:  0.775310621242485\n",
      "Adjusted Rand Score:  0.4068384673214588\n",
      "Accuracy score of 7NN: 2.6373626373626374e-05\n",
      "-----------------------------------------------\n",
      "Result: 3 out of 113750 samples were correctly labeled.\n",
      "Rand Score:  0.7667254509018037\n",
      "Adjusted Rand Score:  0.3729244657293366\n",
      "Accuracy score of 8NN: 2.6373626373626374e-05\n",
      "-----------------------------------------------\n",
      "Result: 0 out of 113750 samples were correctly labeled.\n",
      "Rand Score:  0.755006012024048\n",
      "Adjusted Rand Score:  0.33418347236639323\n",
      "Accuracy score of 9NN: 0.0\n",
      "-----------------------------------------------\n",
      "Result: 64 out of 113750 samples were correctly labeled.\n",
      "Rand Score:  0.7448336673346694\n",
      "Adjusted Rand Score:  0.2998597669031467\n",
      "Accuracy score of 10NN: 0.0005626373626373627\n",
      "-----------------------------------------------\n"
     ]
    }
   ],
   "source": [
    "k = [3, 4, 5, 6, 7, 8, 9, 10]\n",
    "\n",
    "for i in k:\n",
    "    aggclustering = AgglomerativeClustering(n_clusters=i, affinity='euclidean', linkage='ward')\n",
    "    aggclustering.fit_predict(X_train[0:500])\n",
    "\n",
    "    labels = aggclustering.labels_\n",
    "\n",
    "    correct_labels = sum(y_train[0:500] == labels)\n",
    "\n",
    "    print(\"Result: %d out of %d samples were correctly labeled.\" % (correct_labels, y_train.size))\n",
    "    \n",
    "    print(\"Rand Score: \", rand_score(y_train[0:500], labels))\n",
    "    print(\"Adjusted Rand Score: \", adjusted_rand_score(y_train[0:500], labels))\n",
    "\n",
    "    print('Accuracy score of {}NN: {}'. format(i, correct_labels/float(y_train.size)))\n",
    "    print('-----------------------------------------------')"
   ]
  },
  {
   "cell_type": "markdown",
   "id": "fa87ba47",
   "metadata": {},
   "source": [
    "Clearly there is a lot of difference in accuracies between KMeans and agglomerative clustering. KMeans is obviously performing better on the dataset taken by me."
   ]
  }
 ],
 "metadata": {
  "kernelspec": {
   "display_name": "Python 3 (ipykernel)",
   "language": "python",
   "name": "python3"
  },
  "language_info": {
   "codemirror_mode": {
    "name": "ipython",
    "version": 3
   },
   "file_extension": ".py",
   "mimetype": "text/x-python",
   "name": "python",
   "nbconvert_exporter": "python",
   "pygments_lexer": "ipython3",
   "version": "3.9.13"
  }
 },
 "nbformat": 4,
 "nbformat_minor": 5
}
