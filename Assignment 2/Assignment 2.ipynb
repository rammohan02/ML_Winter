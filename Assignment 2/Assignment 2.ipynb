{
 "cells": [
  {
   "cell_type": "code",
   "execution_count": 1,
   "id": "3419aaee",
   "metadata": {},
   "outputs": [],
   "source": [
    "import numpy as np\n",
    "from numpy import linalg as LA\n",
    "import pandas as pd\n",
    "from matplotlib import pyplot as plt"
   ]
  },
  {
   "cell_type": "code",
   "execution_count": 2,
   "id": "d1cfa279",
   "metadata": {},
   "outputs": [
    {
     "data": {
      "text/html": [
       "<div>\n",
       "<style scoped>\n",
       "    .dataframe tbody tr th:only-of-type {\n",
       "        vertical-align: middle;\n",
       "    }\n",
       "\n",
       "    .dataframe tbody tr th {\n",
       "        vertical-align: top;\n",
       "    }\n",
       "\n",
       "    .dataframe thead th {\n",
       "        text-align: right;\n",
       "    }\n",
       "</style>\n",
       "<table border=\"1\" class=\"dataframe\">\n",
       "  <thead>\n",
       "    <tr style=\"text-align: right;\">\n",
       "      <th></th>\n",
       "      <th>X1</th>\n",
       "      <th>X2</th>\n",
       "      <th>X3</th>\n",
       "      <th>X4</th>\n",
       "    </tr>\n",
       "  </thead>\n",
       "  <tbody>\n",
       "    <tr>\n",
       "      <th>0</th>\n",
       "      <td>77.60</td>\n",
       "      <td>136</td>\n",
       "      <td>9.65</td>\n",
       "      <td>12.6</td>\n",
       "    </tr>\n",
       "    <tr>\n",
       "      <th>1</th>\n",
       "      <td>83.45</td>\n",
       "      <td>177</td>\n",
       "      <td>9.76</td>\n",
       "      <td>13.1</td>\n",
       "    </tr>\n",
       "    <tr>\n",
       "      <th>2</th>\n",
       "      <td>76.20</td>\n",
       "      <td>164</td>\n",
       "      <td>10.52</td>\n",
       "      <td>13.9</td>\n",
       "    </tr>\n",
       "    <tr>\n",
       "      <th>3</th>\n",
       "      <td>80.30</td>\n",
       "      <td>185</td>\n",
       "      <td>9.76</td>\n",
       "      <td>12.5</td>\n",
       "    </tr>\n",
       "    <tr>\n",
       "      <th>4</th>\n",
       "      <td>82.30</td>\n",
       "      <td>187</td>\n",
       "      <td>9.77</td>\n",
       "      <td>13.4</td>\n",
       "    </tr>\n",
       "    <tr>\n",
       "      <th>5</th>\n",
       "      <td>86.00</td>\n",
       "      <td>171</td>\n",
       "      <td>9.25</td>\n",
       "      <td>13.0</td>\n",
       "    </tr>\n",
       "    <tr>\n",
       "      <th>6</th>\n",
       "      <td>90.50</td>\n",
       "      <td>211</td>\n",
       "      <td>9.75</td>\n",
       "      <td>12.9</td>\n",
       "    </tr>\n",
       "    <tr>\n",
       "      <th>7</th>\n",
       "      <td>81.50</td>\n",
       "      <td>158</td>\n",
       "      <td>10.38</td>\n",
       "      <td>13.6</td>\n",
       "    </tr>\n",
       "    <tr>\n",
       "      <th>8</th>\n",
       "      <td>79.75</td>\n",
       "      <td>176</td>\n",
       "      <td>9.31</td>\n",
       "      <td>12.0</td>\n",
       "    </tr>\n",
       "    <tr>\n",
       "      <th>9</th>\n",
       "      <td>86.85</td>\n",
       "      <td>175</td>\n",
       "      <td>10.23</td>\n",
       "      <td>14.2</td>\n",
       "    </tr>\n",
       "    <tr>\n",
       "      <th>10</th>\n",
       "      <td>72.90</td>\n",
       "      <td>139</td>\n",
       "      <td>10.29</td>\n",
       "      <td>12.9</td>\n",
       "    </tr>\n",
       "    <tr>\n",
       "      <th>11</th>\n",
       "      <td>73.50</td>\n",
       "      <td>124</td>\n",
       "      <td>9.68</td>\n",
       "      <td>12.0</td>\n",
       "    </tr>\n",
       "    <tr>\n",
       "      <th>12</th>\n",
       "      <td>86.85</td>\n",
       "      <td>149</td>\n",
       "      <td>10.33</td>\n",
       "      <td>13.5</td>\n",
       "    </tr>\n",
       "    <tr>\n",
       "      <th>13</th>\n",
       "      <td>89.15</td>\n",
       "      <td>224</td>\n",
       "      <td>9.70</td>\n",
       "      <td>13.0</td>\n",
       "    </tr>\n",
       "    <tr>\n",
       "      <th>14</th>\n",
       "      <td>78.05</td>\n",
       "      <td>149</td>\n",
       "      <td>9.63</td>\n",
       "      <td>12.6</td>\n",
       "    </tr>\n",
       "    <tr>\n",
       "      <th>15</th>\n",
       "      <td>65.55</td>\n",
       "      <td>166</td>\n",
       "      <td>9.29</td>\n",
       "      <td>11.3</td>\n",
       "    </tr>\n",
       "    <tr>\n",
       "      <th>16</th>\n",
       "      <td>67.10</td>\n",
       "      <td>132</td>\n",
       "      <td>9.52</td>\n",
       "      <td>11.7</td>\n",
       "    </tr>\n",
       "    <tr>\n",
       "      <th>17</th>\n",
       "      <td>66.25</td>\n",
       "      <td>173</td>\n",
       "      <td>9.88</td>\n",
       "      <td>12.1</td>\n",
       "    </tr>\n",
       "    <tr>\n",
       "      <th>18</th>\n",
       "      <td>80.45</td>\n",
       "      <td>155</td>\n",
       "      <td>11.19</td>\n",
       "      <td>13.8</td>\n",
       "    </tr>\n",
       "    <tr>\n",
       "      <th>19</th>\n",
       "      <td>78.30</td>\n",
       "      <td>202</td>\n",
       "      <td>10.78</td>\n",
       "      <td>13.3</td>\n",
       "    </tr>\n",
       "    <tr>\n",
       "      <th>20</th>\n",
       "      <td>77.80</td>\n",
       "      <td>155</td>\n",
       "      <td>10.86</td>\n",
       "      <td>14.0</td>\n",
       "    </tr>\n",
       "    <tr>\n",
       "      <th>21</th>\n",
       "      <td>79.20</td>\n",
       "      <td>161</td>\n",
       "      <td>10.68</td>\n",
       "      <td>14.3</td>\n",
       "    </tr>\n",
       "    <tr>\n",
       "      <th>22</th>\n",
       "      <td>82.65</td>\n",
       "      <td>158</td>\n",
       "      <td>10.64</td>\n",
       "      <td>12.2</td>\n",
       "    </tr>\n",
       "    <tr>\n",
       "      <th>23</th>\n",
       "      <td>79.85</td>\n",
       "      <td>156</td>\n",
       "      <td>10.83</td>\n",
       "      <td>13.7</td>\n",
       "    </tr>\n",
       "    <tr>\n",
       "      <th>24</th>\n",
       "      <td>67.30</td>\n",
       "      <td>157</td>\n",
       "      <td>9.78</td>\n",
       "      <td>11.8</td>\n",
       "    </tr>\n",
       "    <tr>\n",
       "      <th>25</th>\n",
       "      <td>70.65</td>\n",
       "      <td>173</td>\n",
       "      <td>9.97</td>\n",
       "      <td>12.2</td>\n",
       "    </tr>\n",
       "    <tr>\n",
       "      <th>26</th>\n",
       "      <td>67.15</td>\n",
       "      <td>159</td>\n",
       "      <td>9.99</td>\n",
       "      <td>12.3</td>\n",
       "    </tr>\n",
       "    <tr>\n",
       "      <th>27</th>\n",
       "      <td>80.85</td>\n",
       "      <td>160</td>\n",
       "      <td>10.47</td>\n",
       "      <td>12.7</td>\n",
       "    </tr>\n",
       "    <tr>\n",
       "      <th>28</th>\n",
       "      <td>81.80</td>\n",
       "      <td>162</td>\n",
       "      <td>10.87</td>\n",
       "      <td>13.9</td>\n",
       "    </tr>\n",
       "    <tr>\n",
       "      <th>29</th>\n",
       "      <td>81.15</td>\n",
       "      <td>178</td>\n",
       "      <td>11.07</td>\n",
       "      <td>13.8</td>\n",
       "    </tr>\n",
       "  </tbody>\n",
       "</table>\n",
       "</div>"
      ],
      "text/plain": [
       "       X1   X2     X3    X4\n",
       "0   77.60  136   9.65  12.6\n",
       "1   83.45  177   9.76  13.1\n",
       "2   76.20  164  10.52  13.9\n",
       "3   80.30  185   9.76  12.5\n",
       "4   82.30  187   9.77  13.4\n",
       "5   86.00  171   9.25  13.0\n",
       "6   90.50  211   9.75  12.9\n",
       "7   81.50  158  10.38  13.6\n",
       "8   79.75  176   9.31  12.0\n",
       "9   86.85  175  10.23  14.2\n",
       "10  72.90  139  10.29  12.9\n",
       "11  73.50  124   9.68  12.0\n",
       "12  86.85  149  10.33  13.5\n",
       "13  89.15  224   9.70  13.0\n",
       "14  78.05  149   9.63  12.6\n",
       "15  65.55  166   9.29  11.3\n",
       "16  67.10  132   9.52  11.7\n",
       "17  66.25  173   9.88  12.1\n",
       "18  80.45  155  11.19  13.8\n",
       "19  78.30  202  10.78  13.3\n",
       "20  77.80  155  10.86  14.0\n",
       "21  79.20  161  10.68  14.3\n",
       "22  82.65  158  10.64  12.2\n",
       "23  79.85  156  10.83  13.7\n",
       "24  67.30  157   9.78  11.8\n",
       "25  70.65  173   9.97  12.2\n",
       "26  67.15  159   9.99  12.3\n",
       "27  80.85  160  10.47  12.7\n",
       "28  81.80  162  10.87  13.9\n",
       "29  81.15  178  11.07  13.8"
      ]
     },
     "execution_count": 2,
     "metadata": {},
     "output_type": "execute_result"
    }
   ],
   "source": [
    "data = pd.read_excel(\"test_data.xlsx\")\n",
    "data"
   ]
  },
  {
   "cell_type": "markdown",
   "id": "fb9f0c3f",
   "metadata": {},
   "source": [
    "# Q1"
   ]
  },
  {
   "cell_type": "code",
   "execution_count": 3,
   "id": "51809e1e",
   "metadata": {},
   "outputs": [
    {
     "name": "stdout",
     "output_type": "stream",
     "text": [
      "[[ 4.75479569e+01  7.05248276e+01  7.58398276e-01  3.36915517e+00]\n",
      " [ 7.05248276e+01  4.77995402e+02 -7.91678161e-01  2.89471264e+00]\n",
      " [ 7.58398276e-01 -7.91678161e-01  3.15128851e-01  3.23552874e-01]\n",
      " [ 3.36915517e+00  2.89471264e+00  3.23552874e-01  6.74954023e-01]]\n"
     ]
    }
   ],
   "source": [
    "data_numpy = data.to_numpy()\n",
    "cov = np.cov(data_numpy.T)\n",
    "print(cov)"
   ]
  },
  {
   "cell_type": "code",
   "execution_count": 4,
   "id": "71fcbbad",
   "metadata": {},
   "outputs": [
    {
     "name": "stdout",
     "output_type": "stream",
     "text": [
      "Eigen values: [4.89280087e+02 3.65396440e+01 6.22203694e-01 9.15073250e-02]\n",
      "Eigen vectors: [[ 1.57703890e-01  9.83940357e-01 -7.79869693e-02 -3.01477895e-02]\n",
      " [ 9.87461161e-01 -1.57669244e-01  7.78021664e-03 -5.77866853e-04]\n",
      " [-1.34959505e-03  2.47595703e-02  6.14484812e-01 -7.88538876e-01]\n",
      " [ 6.93670265e-03  7.99296361e-02  7.85026061e-01  6.14245243e-01]]\n"
     ]
    }
   ],
   "source": [
    "eigen_values, eigen_vectors = LA.eig(cov)\n",
    "print(\"Eigen values: \", end=\"\")\n",
    "print(eigen_values)\n",
    "print(\"Eigen vectors: \", end=\"\")\n",
    "print(eigen_vectors)"
   ]
  },
  {
   "cell_type": "markdown",
   "id": "5ff5dd7a",
   "metadata": {},
   "source": [
    "# Q2"
   ]
  },
  {
   "cell_type": "code",
   "execution_count": 5,
   "id": "7247f385",
   "metadata": {},
   "outputs": [
    {
     "name": "stdout",
     "output_type": "stream",
     "text": [
      "[ 78.365      165.73333333  10.12766667  12.94333333]\n"
     ]
    }
   ],
   "source": [
    "data_mean = np.mean(data_numpy, 0)\n",
    "print(data_mean)"
   ]
  },
  {
   "cell_type": "code",
   "execution_count": 6,
   "id": "1d8ac97b",
   "metadata": {},
   "outputs": [
    {
     "name": "stdout",
     "output_type": "stream",
     "text": [
      "[[ 0.15770389  0.98746116 -0.0013496   0.0069367 ]\n",
      " [ 0.98394036 -0.15766924  0.02475957  0.07992964]]\n"
     ]
    }
   ],
   "source": [
    "# 2D\n",
    "temp = np.array([eigen_vectors[:, 0], eigen_vectors[:, 1]])\n",
    "print(temp)"
   ]
  },
  {
   "cell_type": "code",
   "execution_count": 7,
   "id": "9c6457d3",
   "metadata": {},
   "outputs": [
    {
     "name": "stdout",
     "output_type": "stream",
     "text": [
      "[[-29.48289226  11.92890298  -2.04692165  19.32766299  21.62422262\n",
      "    6.40627556  46.61302102  -7.13775006  10.35091437  10.49716995\n",
      "  -27.2604998  -41.98321465 -15.18181088  59.23787701 -16.57490343\n",
      "   -1.76792118 -35.09469534   5.25945277 -10.26542846  35.80326771\n",
      "  -10.68151106  -4.53363471  -6.96645286  -9.37279745 -10.37628277\n",
      "    5.95392209  -8.4218311   -5.27169976  -3.13917454  12.55673291]\n",
      " [  3.89604849   3.23034894  -1.77075749  -1.17837492   0.54635157\n",
      "    6.66479197   4.79014063   4.36269663  -0.35162554   6.99064424\n",
      "   -1.1616539    1.70670896  11.0365698    1.41887596   2.28862629\n",
      "  -12.80333211  -5.8798037  -13.13970671   3.83860817  -5.73743432\n",
      "    1.23898149   1.6900047    5.38876404   3.0736683   -9.61031628\n",
      "   -8.80014782 -10.02808149   3.3380886    4.06331284   0.89800266]]\n"
     ]
    }
   ],
   "source": [
    "data_2d = np.matmul(temp, (data_numpy-data_mean).T)\n",
    "print(data_2d)"
   ]
  },
  {
   "cell_type": "code",
   "execution_count": 8,
   "id": "b2050686",
   "metadata": {},
   "outputs": [
    {
     "name": "stdout",
     "output_type": "stream",
     "text": [
      "[[ 0.15770389  0.98746116 -0.0013496   0.0069367 ]\n",
      " [ 0.98394036 -0.15766924  0.02475957  0.07992964]\n",
      " [-0.07798697  0.00778022  0.61448481  0.78502606]]\n",
      "[[-2.94828923e+01  1.19289030e+01 -2.04692165e+00  1.93276630e+01\n",
      "   2.16242226e+01  6.40627556e+00  4.66130210e+01 -7.13775006e+00\n",
      "   1.03509144e+01  1.04971699e+01 -2.72604998e+01 -4.19832147e+01\n",
      "  -1.51818109e+01  5.92378770e+01 -1.65749034e+01 -1.76792118e+00\n",
      "  -3.50946953e+01  5.25945277e+00 -1.02654285e+01  3.58032677e+01\n",
      "  -1.06815111e+01 -4.53363471e+00 -6.96645286e+00 -9.37279745e+00\n",
      "  -1.03762828e+01  5.95392209e+00 -8.42183110e+00 -5.27169976e+00\n",
      "  -3.13917454e+00  1.25567329e+01]\n",
      " [ 3.89604849e+00  3.23034894e+00 -1.77075749e+00 -1.17837492e+00\n",
      "   5.46351573e-01  6.66479197e+00  4.79014063e+00  4.36269663e+00\n",
      "  -3.51625545e-01  6.99064424e+00 -1.16165390e+00  1.70670896e+00\n",
      "   1.10365698e+01  1.41887596e+00  2.28862629e+00 -1.28033321e+01\n",
      "  -5.87980370e+00 -1.31397067e+01  3.83860817e+00 -5.73743432e+00\n",
      "   1.23898149e+00  1.69000470e+00  5.38876404e+00  3.07366830e+00\n",
      "  -9.61031628e+00 -8.80014782e+00 -1.00280815e+01  3.33808860e+00\n",
      "   4.06331284e+00  8.98002656e-01]\n",
      " [-7.34716269e-01 -4.11844797e-01  1.14744722e+00 -5.74959748e-01\n",
      "  -2.70494985e-03 -1.04928273e+00 -8.60275626e-01  3.65899290e-01\n",
      "  -1.27112006e+00  4.59775603e-01  2.83941234e-01 -9.60913387e-01\n",
      "  -2.30579792e-01 -6.06072035e-01 -6.80957285e-01 -8.03315202e-01\n",
      "  -7.33380439e-01  1.87122324e-01  1.07918287e+00  9.68073231e-01\n",
      "   1.24007356e+00  1.30247366e+00 -6.63056159e-01  8.34038128e-01\n",
      "  -3.16203760e-01 -2.22141019e-02  2.32609560e-01 -2.19068569e-01\n",
      "   9.10229442e-01  1.12979879e+00]]\n"
     ]
    }
   ],
   "source": [
    "# 3D\n",
    "temp1 = np.array([eigen_vectors[:, 0], eigen_vectors[:, 1], eigen_vectors[:, 2]])\n",
    "print(temp1)\n",
    "data_3d = np.matmul(temp1, (data_numpy-data_mean).T)\n",
    "print(data_3d)"
   ]
  },
  {
   "cell_type": "markdown",
   "id": "ff3f4bed",
   "metadata": {},
   "source": [
    "# Q3"
   ]
  },
  {
   "cell_type": "code",
   "execution_count": 9,
   "id": "d1421e9b",
   "metadata": {},
   "outputs": [
    {
     "data": {
      "image/png": "[encoded data removed]",
      "text/plain": [
       "<Figure size 640x480 with 1 Axes>"
      ]
     },
     "metadata": {},
     "output_type": "display_data"
    },
    {
     "data": {
      "image/png": "[encoded data removed]",
      "text/plain": [
       "<Figure size 640x480 with 1 Axes>"
      ]
     },
     "metadata": {},
     "output_type": "display_data"
    },
    {
     "data": {
      "image/png": "[encoded data removed]",
      "text/plain": [
       "<Figure size 640x480 with 1 Axes>"
      ]
     },
     "metadata": {},
     "output_type": "display_data"
    }
   ],
   "source": [
    "x1, x2, x3 = data_3d\n",
    "\n",
    "plt.plot(x1,x2,'.')\n",
    "plt.axis('equal')\n",
    "plt.title('Scatter plot between x1 and x2')\n",
    "plt.show()\n",
    "\n",
    "plt.plot(x1,x3,'.')\n",
    "plt.axis('equal')\n",
    "plt.title('Scatter plot between x1 and x3')\n",
    "plt.show()\n",
    "\n",
    "plt.plot(x2,x3,'.')\n",
    "plt.axis('equal')\n",
    "plt.title('Scatter plot between x2 and x3')\n",
    "plt.show()"
   ]
  },
  {
   "cell_type": "markdown",
   "id": "a5e5c525",
   "metadata": {},
   "source": [
    "# Q4"
   ]
  },
  {
   "cell_type": "code",
   "execution_count": 10,
   "id": "6f491d25",
   "metadata": {},
   "outputs": [
    {
     "name": "stdout",
     "output_type": "stream",
     "text": [
      "[[ 77.54891254 136.0058353   10.26392112  13.05022901]\n",
      " [ 83.4247051  177.00333504  10.19154953  13.2842812 ]\n",
      " [ 76.29987273 163.9912717   10.08658599  12.78759844]\n",
      " [ 80.253597   185.00444334  10.07240609  12.98321651]\n",
      " [ 82.31280139 187.00027046  10.11201015  13.13700382]\n",
      " [ 85.93305237 171.00844892  10.28403817  13.52048616]\n",
      " [ 90.42926744 211.00662332  10.18335979  13.6495482 ]\n",
      " [ 81.53198233 157.99721929  10.24531823  13.24252964]\n",
      " [ 79.6514009  176.00989978  10.10499103  12.98702925]\n",
      " [ 86.89882153 174.99667136  10.28658509  13.57490873]\n",
      " [ 72.92291497 138.99780566  10.13569525  12.66138478]\n",
      " [ 73.42338355 124.00744396  10.22658439  12.78852488]\n",
      " [ 86.83009579 149.00175712  10.42141669  13.72017063]\n",
      " [ 89.10313298 224.00472301  10.08285028  13.46765911]\n",
      " [ 78.00294501 149.00541398  10.20670148  13.01128722]\n",
      " [ 65.48847678 166.00627153   9.81304764  11.90770411]\n",
      " [ 67.04505387 132.00574895  10.02944888  12.2299213 ]\n",
      " [ 66.26574844 172.99856629   9.79523504  11.92956462]\n",
      " [ 80.52306349 154.99139099  10.23656313  13.17894366]\n",
      " [ 78.36602143 201.99228655   9.93729035  12.73309892]\n",
      " [ 77.89956804 154.99040675  10.17275903  12.96827021]\n",
      " [ 79.31289199 160.99008338  10.17562903  13.04696632]\n",
      " [ 82.5685857  158.00458935  10.27049204  13.32573107]\n",
      " [ 79.91117967 155.99343693  10.21641885  13.12399421]\n",
      " [ 67.27264181 157.00240841   9.90372314  12.10320706]\n",
      " [ 70.64513609 173.00011281   9.9017434   12.28124131]\n",
      " [ 67.16981039 158.99822225   9.89074174  12.08337269]\n",
      " [ 80.81811253 160.00142066  10.21743097  13.17357733]\n",
      " [ 81.86799745 161.99286093  10.23250916  13.24633693]\n",
      " [ 81.22882668 177.99103199  10.13295432  13.10221268]]\n"
     ]
    }
   ],
   "source": [
    "#2D\n",
    "data_from_2d = np.matmul(temp.T, data_2d).T + data_mean\n",
    "print(data_from_2d)"
   ]
  },
  {
   "cell_type": "code",
   "execution_count": 11,
   "id": "daaa5743",
   "metadata": {},
   "outputs": [
    {
     "name": "stdout",
     "output_type": "stream",
     "text": [
      "0.6899206517901068\n"
     ]
    }
   ],
   "source": [
    "mse_2d = np.sum((data_numpy - data_from_2d)**2)/30\n",
    "print(mse_2d)"
   ]
  },
  {
   "cell_type": "code",
   "execution_count": 12,
   "id": "fea45d10",
   "metadata": {},
   "outputs": [
    {
     "name": "stdout",
     "output_type": "stream",
     "text": [
      "[[ 77.60621083 136.00011905   9.81244913  12.4734576 ]\n",
      " [ 83.45682362 177.00013079   9.93847716  12.9609723 ]\n",
      " [ 76.2103868  164.00019909  10.79167488  13.68837442]\n",
      " [ 80.29843637 184.99997003   9.71910206  12.53185812]\n",
      " [ 82.31301235 187.00024942  10.110348    13.13488036]\n",
      " [ 86.01488275 171.00028527   9.63926987  12.69677187]\n",
      " [ 90.49635773 210.99993019   9.65473348  12.97420941]\n",
      " [ 81.50344696 158.00006607  10.47015779  13.52977012]\n",
      " [ 79.7505317  176.00001019   9.32390706  11.98916687]\n",
      " [ 86.86296502 175.00024851  10.56911021  13.93584456]\n",
      " [ 72.90077126 139.00001478  10.31017283  12.88428605]\n",
      " [ 73.49832227 123.99996784   9.6361177   12.03418283]\n",
      " [ 86.84807801 148.99996316  10.27972891  13.53915949]\n",
      " [ 89.1503987  224.00000764   9.71042822  12.99187677]\n",
      " [ 78.05605081 149.00011598   9.78826357  12.47671801]\n",
      " [ 65.5511249  166.00002156   9.31942265  11.27708074]\n",
      " [ 67.10224798 132.00004309   9.57879774  11.65419854]\n",
      " [ 66.25115534 173.00002215   9.91021887  12.07646052]\n",
      " [ 80.43890129 154.99978726  10.89970461  14.02613034]\n",
      " [ 78.29052434 201.99981837  10.53215664  13.49306163]\n",
      " [ 77.80285847 155.00005479  10.9347654   13.94176027]\n",
      " [ 79.21131602 161.0002169   10.97597931  14.06944208]\n",
      " [ 82.62029544 157.99943063   9.8630541   12.8052147 ]\n",
      " [ 79.84613556 155.99992593  10.72892262  13.77873588]\n",
      " [ 67.29730158 156.99994828   9.70942074  11.85497887]\n",
      " [ 70.6468685  172.99993998   9.88809318  12.26380266]\n",
      " [ 67.15166987 159.00003201  10.03367678  12.26597726]\n",
      " [ 80.83519702 159.99971626  10.08281666  13.00160279]\n",
      " [ 81.79701142 161.99994272  10.79183133  13.96089076]\n",
      " [ 81.1407171  177.99982207  10.82719852  13.98913418]]\n"
     ]
    }
   ],
   "source": [
    "#3D\n",
    "data_from_3d = np.matmul(temp1.T, data_3d).T + data_mean\n",
    "print(data_from_3d)"
   ]
  },
  {
   "cell_type": "code",
   "execution_count": 13,
   "id": "7e642fd7",
   "metadata": {},
   "outputs": [
    {
     "name": "stdout",
     "output_type": "stream",
     "text": [
      "0.08845708085951669\n"
     ]
    }
   ],
   "source": [
    "mse_3d = np.sum((data_numpy-data_from_3d)**2)/30\n",
    "print(mse_3d)"
   ]
  },
  {
   "cell_type": "code",
   "execution_count": null,
   "id": "792b1621",
   "metadata": {},
   "outputs": [],
   "source": []
  }
 ],
 "metadata": {
  "kernelspec": {
   "display_name": "Python 3 (ipykernel)",
   "language": "python",
   "name": "python3"
  },
  "language_info": {
   "codemirror_mode": {
    "name": "ipython",
    "version": 3
   },
   "file_extension": ".py",
   "mimetype": "text/x-python",
   "name": "python",
   "nbconvert_exporter": "python",
   "pygments_lexer": "ipython3",
   "version": "3.9.13"
  }
 },
 "nbformat": 4,
 "nbformat_minor": 5
}
